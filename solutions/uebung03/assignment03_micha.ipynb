{
 "cells": [
  {
   "cell_type": "markdown",
   "metadata": {},
   "source": [
    "# Assignment 3\n",
    "## Due May 8th"
   ]
  },
  {
   "cell_type": "code",
   "execution_count": 1,
   "metadata": {
    "collapsed": true
   },
   "outputs": [],
   "source": [
    "%matplotlib inline\n",
    "import matplotlib.pyplot as plt\n",
    "import numpy as np\n",
    "import pandas as pd\n",
    "\n",
    "np.random.seed(42)"
   ]
  },
  {
   "cell_type": "markdown",
   "metadata": {},
   "source": [
    "## Exercise 4"
   ]
  },
  {
   "cell_type": "code",
   "execution_count": 2,
   "metadata": {
    "collapsed": true
   },
   "outputs": [],
   "source": [
    "def get_data(n):\n",
    "        \n",
    "    x = np.random.uniform(0,2, n)\n",
    "    X = np.expand_dims(x, axis=-1)\n",
    "    y = 2 * np.sin(2*x) + 0.1*np.random.normal(0, 2, n)\n",
    "    Y = np.expand_dims(y, axis=-1)\n",
    "    \n",
    "    return X, Y"
   ]
  },
  {
   "cell_type": "code",
   "execution_count": 3,
   "metadata": {
    "collapsed": true
   },
   "outputs": [],
   "source": [
    "X, Y = get_data(100)"
   ]
  },
  {
   "cell_type": "markdown",
   "metadata": {},
   "source": [
    "### a) Plot\n"
   ]
  },
  {
   "cell_type": "code",
   "execution_count": 4,
   "metadata": {
    "collapsed": false
   },
   "outputs": [
    {
     "data": {
      "image/png": "[encoded data removed]",
      "text/plain": [
       "<matplotlib.figure.Figure at 0x10d5cb278>"
      ]
     },
     "metadata": {},
     "output_type": "display_data"
    }
   ],
   "source": [
    "fig = plt.figure()\n",
    "plt.scatter(X,Y)\n",
    "plt.xlim([-0.5, 2])\n",
    "plt.ylim([0, 2.5])\n",
    "plt.show()"
   ]
  },
  {
   "cell_type": "code",
   "execution_count": 5,
   "metadata": {
    "collapsed": false
   },
   "outputs": [
    {
     "name": "stdout",
     "output_type": "stream",
     "text": [
      "(100, 1)\n",
      "(100, 1)\n"
     ]
    }
   ],
   "source": [
    "print(X.shape)\n",
    "print(Y.shape)"
   ]
  },
  {
   "cell_type": "markdown",
   "metadata": {},
   "source": [
    "### b)"
   ]
  },
  {
   "cell_type": "code",
   "execution_count": 6,
   "metadata": {
    "collapsed": true
   },
   "outputs": [],
   "source": [
    "def ridge_regression(X, Y, lam=1):\n",
    "    #w = np.matmul(np.matmul(np.linalg.inv(np.matmul(X.transpose(),X)+lam*np.identity(len(X))),X.transpose),Y)\n",
    "    \n",
    "    C = X.T.dot(X) + lam*np.eye(X.shape[1])\n",
    "    w = np.linalg.inv(C).dot(X.T.dot(Y))\n",
    "    # s. Formel fuer w auf https://simplyml.com/the-simplest-machine-learning-algorithm/\n",
    "    return w\n"
   ]
  },
  {
   "cell_type": "code",
   "execution_count": 8,
   "metadata": {
    "collapsed": false
   },
   "outputs": [
    {
     "data": {
      "text/plain": [
       "array([[0.34777292]])"
      ]
     },
     "execution_count": 8,
     "metadata": {},
     "output_type": "execute_result"
    }
   ],
   "source": [
    "w = ridge_regression(X,Y)\n",
    "w\n"
   ]
  },
  {
   "cell_type": "markdown",
   "metadata": {},
   "source": [
    "### c)"
   ]
  },
  {
   "cell_type": "markdown",
   "metadata": {},
   "source": [
    "def ridge_pred(X,Y):\n",
    "    lam = [0.1,1,10]\n",
    "    pred = []\n",
    "    for i in range(len(lam)):\n",
    "        w = ridge_regression(X,Y,lam[i])\n",
    "        pred.append(np.dot(X.transpose(),w)) # weil f(x) = X^T * Y\n",
    "    return pred\n",
    "    "
   ]
  },
  {
   "cell_type": "code",
   "execution_count": 14,
   "metadata": {
    "collapsed": false
   },
   "outputs": [
    {
     "data": {
      "text/plain": [
       "[1.5145227156308494, 1.514532411510734, 1.5153744995110392]"
      ]
     },
     "execution_count": 14,
     "metadata": {},
     "output_type": "execute_result"
    },
    {
     "data": {
      "image/png": "[encoded data removed]",
      "text/plain": [
       "<matplotlib.figure.Figure at 0x116709198>"
      ]
     },
     "metadata": {},
     "output_type": "display_data"
    }
   ],
   "source": [
    "def ridge_pred(X,Y,lam):\n",
    "    w = ridge_regression(X,Y,lam)\n",
    "    return np.dot(X,w)\n",
    "    \n",
    "def mse(Y, Y_pred):\n",
    "    return ((Y - Y_pred) ** 2).mean()\n",
    "lams = [0.1, 1.0, 10.0]\n",
    "mses = [mse(Y, ridge_pred(X,Y,lam)) for lam in lams]\n",
    "\n",
    "plt.figure()\n",
    "plt.bar(lams, mses)\n",
    "mses"
   ]
  },
  {
   "cell_type": "code",
   "execution_count": 35,
   "metadata": {
    "collapsed": false
   },
   "outputs": [
    {
     "data": {
      "image/png": "[encoded data removed]",
      "text/plain": [
       "<matplotlib.figure.Figure at 0x1d1bfc3b320>"
      ]
     },
     "metadata": {},
     "output_type": "display_data"
    }
   ],
   "source": [
    "pred01 = ridge_pred(X,Y,0.1)\n",
    "pred1 = ridge_pred(X,Y,1)\n",
    "pred10 = ridge_pred(X,Y,10)\n",
    "\n",
    "fig = plt.figure(figsize=(10,6))\n",
    "plt.subplot(131)\n",
    "plt.title(\"lamda = 0.1\")\n",
    "plt.plot(X,pred01)\n",
    "\n",
    "plt.subplot(132)\n",
    "plt.title(\"lamda = 1\")\n",
    "plt.plot(X,pred1)\n",
    "plt.subplot(133)\n",
    "plt.title(\"lamda = 10\")\n",
    "plt.plot(X,pred10)\n",
    "plt.show()\n",
    "\n"
   ]
  },
  {
   "cell_type": "markdown",
   "metadata": {},
   "source": [
    "### d)"
   ]
  },
  {
   "cell_type": "code",
   "execution_count": 47,
   "metadata": {
    "collapsed": false
   },
   "outputs": [
    {
     "data": {
      "image/png": "[encoded data removed]",
      "text/plain": [
       "<matplotlib.figure.Figure at 0x1d1bd5e0390>"
      ]
     },
     "metadata": {},
     "output_type": "display_data"
    }
   ],
   "source": [
    "X_new = np.asarray([[1, x, x**2] for x in X])\n",
    "lamdas = [0.001, 0.01, 0.1, 1, 10]\n",
    "\n",
    "mses = [mse(ridge_pred(X_new,Y,lam), Y) for lam in lamdas]\n",
    "\n",
    "plt.figure()\n",
    "plt.scatter(X, ridge_pred(X_new, Y, lamdas[np.argmin(mses)]))\n",
    "plt.show()"
   ]
  },
  {
   "cell_type": "code",
   "execution_count": 51,
   "metadata": {
    "collapsed": false
   },
   "outputs": [
    {
     "data": {
      "image/png": "[encoded data removed]",
      "text/plain": [
       "<matplotlib.figure.Figure at 0x1d1bfaf05f8>"
      ]
     },
     "metadata": {},
     "output_type": "display_data"
    }
   ],
   "source": [
    "plt.figure()\n",
    "plt.scatter(X, ridge_pred(X_new, Y, 0))\n",
    "plt.show()\n"
   ]
  },
  {
   "cell_type": "markdown",
   "metadata": {},
   "source": [
    "### e)"
   ]
  },
  {
   "cell_type": "code",
   "execution_count": 55,
   "metadata": {
    "collapsed": true
   },
   "outputs": [],
   "source": [
    "X_test, Y_test = get_data(20)\n",
    "X_new_test = np.asarray([[1, x, x**2] for x in X_test])\n",
    "def ridge_pred(X, w):\n",
    "    return X.dot(w)\n",
    "\n"
   ]
  },
  {
   "cell_type": "markdown",
   "metadata": {},
   "source": [
    "Linear interpolation"
   ]
  },
  {
   "cell_type": "code",
   "execution_count": 59,
   "metadata": {
    "collapsed": false
   },
   "outputs": [
    {
     "data": {
      "text/plain": [
       "<matplotlib.collections.PathCollection at 0x1d1bfa025c0>"
      ]
     },
     "execution_count": 59,
     "metadata": {},
     "output_type": "execute_result"
    },
    {
     "data": {
      "image/png": "[encoded data removed]",
      "text/plain": [
       "<matplotlib.figure.Figure at 0x1d1c0fbe5f8>"
      ]
     },
     "metadata": {},
     "output_type": "display_data"
    }
   ],
   "source": [
    "lin_res = ridge_pred(X_new_test, ridge_regression(X_new, Y, 0))\n",
    "plt.figure()\n",
    "plt.scatter(X_test, lin_res)"
   ]
  },
  {
   "cell_type": "markdown",
   "metadata": {},
   "source": [
    "Ridge interpolation"
   ]
  },
  {
   "cell_type": "code",
   "execution_count": 68,
   "metadata": {
    "collapsed": false
   },
   "outputs": [
    {
     "data": {
      "text/plain": [
       "2"
      ]
     },
     "execution_count": 68,
     "metadata": {},
     "output_type": "execute_result"
    }
   ],
   "source": [
    "ws = [ridge_regression(X_new, Y, lam) for lam in lams]\n",
    "ws = np.squeeze(ws)\n",
    "mses_ridge = [mse(ridge_pred(X_new_test,w), Y_test) for w in ws]\n",
    "np.argmin(mses_ridge)"
   ]
  },
  {
   "cell_type": "markdown",
   "metadata": {},
   "source": [
    "### f)"
   ]
  },
  {
   "cell_type": "code",
   "execution_count": 77,
   "metadata": {
    "collapsed": false
   },
   "outputs": [],
   "source": [
    "X = np.random.uniform(0,2, (100, 2))\n",
    "Y = 2 * (X[:, 0]**2) + X[:, 1] + 1 + 0.1 * np.random.normal(0, 1, 100)\n",
    "# Transform to new basis\n",
    "X_new_b = np.asarray([[1, x[0], x[0]**2, x[1], x[1]**2, x[0]*x[1]] for x in X])"
   ]
  },
  {
   "cell_type": "code",
   "execution_count": 78,
   "metadata": {
    "collapsed": false
   },
   "outputs": [],
   "source": [
    "mses_new = [mse(Y, ridge_pred(X, ridge_regression(X,Y, lam))) for lam in lamdas]"
   ]
  },
  {
   "cell_type": "code",
   "execution_count": 82,
   "metadata": {
    "collapsed": false
   },
   "outputs": [
    {
     "data": {
      "image/png": "[encoded data removed]",
      "text/plain": [
       "<matplotlib.figure.Figure at 0x1d1c0ff80b8>"
      ]
     },
     "metadata": {},
     "output_type": "display_data"
    }
   ],
   "source": [
    "plt.figure()\n",
    "plt.bar(lamdas, mses_new)\n",
    "plt.show()"
   ]
  },
  {
   "cell_type": "code",
   "execution_count": null,
   "metadata": {
    "collapsed": true
   },
   "outputs": [],
   "source": []
  }
 ],
 "metadata": {
  "kernelspec": {
   "display_name": "Python 3",
   "language": "python",
   "name": "python3"
  },
  "language_info": {
   "codemirror_mode": {
    "name": "ipython",
    "version": 3
   },
   "file_extension": ".py",
   "mimetype": "text/x-python",
   "name": "python",
   "nbconvert_exporter": "python",
   "pygments_lexer": "ipython3",
   "version": "3.6.0"
  }
 },
 "nbformat": 4,
 "nbformat_minor": 2
}

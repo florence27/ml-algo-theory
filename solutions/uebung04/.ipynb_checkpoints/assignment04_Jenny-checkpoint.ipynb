{
 "cells": [
  {
   "cell_type": "markdown",
   "metadata": {},
   "source": [
    "# Assignment 4\n",
    "## Due May 15th"
   ]
  },
  {
   "cell_type": "code",
   "execution_count": 1,
   "metadata": {},
   "outputs": [],
   "source": [
    "import warnings\n",
    "warnings.filterwarnings('ignore')"
   ]
  },
  {
   "cell_type": "code",
   "execution_count": 2,
   "metadata": {},
   "outputs": [],
   "source": [
    "%matplotlib inline\n",
    "import matplotlib.pyplot as plt\n",
    "import numpy as np\n",
    "import pandas as pd\n",
    "\n",
    "from sklearn.neighbors import KNeighborsClassifier\n",
    "from sklearn.linear_model import Ridge, LinearRegression, Lasso\n",
    "from sklearn.datasets import make_classification\n",
    "from sklearn.model_selection import GridSearchCV\n",
    "\n",
    "np.random.seed(42)"
   ]
  },
  {
   "cell_type": "markdown",
   "metadata": {},
   "source": [
    "Here you would normaly get a \"RuntimeWarning: numpy.dtype size changed, may indicate binary incompatibility\" warning. You do not since we silenced the warning in the first cell. If you are interested read here\n",
    "https://stackoverflow.com/questions/40845304/runtimewarning-numpy-dtype-size-changed-may-indicate-binary-incompatibility"
   ]
  },
  {
   "cell_type": "code",
   "execution_count": 3,
   "metadata": {},
   "outputs": [],
   "source": [
    "def get_data_x_cube(n):\n",
    "        \n",
    "    x = np.random.uniform(0, 4, n)\n",
    "    X = np.expand_dims(x, axis=-1)\n",
    "    y = 3*(x-2)**3 + 0.1*np.random.normal(0, 1, n)\n",
    "    Y = np.expand_dims(y, axis=-1)\n",
    "    \n",
    "    return X, Y"
   ]
  },
  {
   "cell_type": "code",
   "execution_count": 4,
   "metadata": {},
   "outputs": [],
   "source": [
    "def get_data(n):\n",
    "        \n",
    "    x = np.random.uniform(0, 4, n)\n",
    "    X = np.expand_dims(x, axis=-1)\n",
    "    y = x + np.random.normal(0, 3, n)\n",
    "    Y = np.expand_dims(y, axis=-1)\n",
    "    \n",
    "    return X, Y"
   ]
  },
  {
   "cell_type": "markdown",
   "metadata": {},
   "source": [
    "# Exercise 1\n",
    "\n",
    "### a)"
   ]
  },
  {
   "cell_type": "code",
   "execution_count": 5,
   "metadata": {},
   "outputs": [],
   "source": [
    "def MSE(Y_pred, Y):\n",
    "    mse = np.mean(np.square(Y_pred - Y))\n",
    "    return mse"
   ]
  },
  {
   "cell_type": "code",
   "execution_count": null,
   "metadata": {},
   "outputs": [],
   "source": []
  },
  {
   "cell_type": "code",
   "execution_count": null,
   "metadata": {},
   "outputs": [],
   "source": []
  },
  {
   "cell_type": "markdown",
   "metadata": {},
   "source": [
    "### b)"
   ]
  },
  {
   "cell_type": "markdown",
   "metadata": {},
   "source": [
    "X.shape[0]--> number of rows"
   ]
  },
  {
   "cell_type": "code",
   "execution_count": 6,
   "metadata": {},
   "outputs": [],
   "source": [
    "def k_fold_evaluation_MSE(classifier, X, Y, K=10):\n",
    "    fold_x = int(X.shape[0] / K) #number of rows divided by K\n",
    "    fold_y = int(Y.shape[0]/ K)\n",
    "    mse_sum = 0\n",
    "    #increment k in steps of fold\n",
    "    for k in range(K):\n",
    "        #increment in steps of fold from 0 till X.shape\n",
    "        x_val = X[k*fold_x:(k+1)*fold_x]\n",
    "        #part before the folded part\n",
    "        x_rest1 = X[:k*fold_x]\n",
    "        #part after the folded part\n",
    "        x_rest2 = X[(k+1)*fold_x:]\n",
    "        #trainset combined\n",
    "        x_train = np.vstack((x_rest1,x_rest2))\n",
    "        \n",
    "        y_val = Y[k*fold_y:(k+1)*fold_y]\n",
    "        #part before the folded part\n",
    "        y_rest1 = Y[:k*fold_y]\n",
    "        #part after the folded part\n",
    "        y_rest2 = Y[(k+1)*fold_y:]\n",
    "        #trainset combined\n",
    "        y_train = np.vstack((y_rest1,y_rest2))\n",
    "       \n",
    "        classifier.fit(x_train, y_train)\n",
    "        Y_pred = classifier.predict(x_val)\n",
    "        mse_sum = mse_sum + MSE(Y_pred, y_val)\n",
    "    return mse_sum"
   ]
  },
  {
   "cell_type": "code",
   "execution_count": 7,
   "metadata": {},
   "outputs": [],
   "source": [
    "X, Y = get_data_x_cube(300)\n",
    "X_train, Y_train = X[:100], Y[:100]\n",
    "X_test, Y_test = X[101:], Y[101:]\n",
    "c = Ridge(0.5)\n",
    "# cross validation on trainingsset!!!!!\n",
    "test = k_fold_evaluation_MSE(c, X_train, Y_train, K=10)"
   ]
  },
  {
   "cell_type": "code",
   "execution_count": 8,
   "metadata": {},
   "outputs": [
    {
     "data": {
      "text/plain": [
       "13.515891349175766"
      ]
     },
     "execution_count": 8,
     "metadata": {},
     "output_type": "execute_result"
    }
   ],
   "source": [
    "test"
   ]
  },
  {
   "cell_type": "markdown",
   "metadata": {},
   "source": [
    "### c)"
   ]
  },
  {
   "cell_type": "code",
   "execution_count": 37,
   "metadata": {},
   "outputs": [],
   "source": [
    "def k_fold_cv_ridge(X, Y, lambdas, K=10):\n",
    "    val_errors = []\n",
    "    for lam in lambdas:\n",
    "        c = Ridge(lam)\n",
    "        error = k_fold_evaluation_MSE(c, X_train, Y_train, K)\n",
    "        errors = np.divide(error,10)\n",
    "        val_errors.append(error)\n",
    "    \n",
    "    return val_errors"
   ]
  },
  {
   "cell_type": "code",
   "execution_count": 38,
   "metadata": {},
   "outputs": [],
   "source": [
    "X, Y = get_data_x_cube(300)\n",
    "X_train, Y_train = X[:100], Y[:100]\n",
    "X_test, Y_test = X[101:], Y[101:]"
   ]
  },
  {
   "cell_type": "code",
   "execution_count": 40,
   "metadata": {},
   "outputs": [],
   "source": [
    "lambdas = [10**(-3), 10**(-2), 10**(-1), 1, 10, 100]\n",
    "error = k_fold_cv_ridge(X_train, Y_train, lambdas)"
   ]
  },
  {
   "cell_type": "code",
   "execution_count": 44,
   "metadata": {},
   "outputs": [
    {
     "data": {
      "text/plain": [
       "[15.610948114486003,\n",
       " 15.61099150988332,\n",
       " 15.611472335128653,\n",
       " 15.620887622706451,\n",
       " 16.10497141325515,\n",
       " 31.188304274036124]"
      ]
     },
     "execution_count": 44,
     "metadata": {},
     "output_type": "execute_result"
    }
   ],
   "source": [
    "error"
   ]
  },
  {
   "cell_type": "code",
   "execution_count": 43,
   "metadata": {},
   "outputs": [
    {
     "data": {
      "image/png": "[encoded data removed]",
      "text/plain": [
       "<matplotlib.figure.Figure at 0x1a1f9abba8>"
      ]
     },
     "metadata": {},
     "output_type": "display_data"
    }
   ],
   "source": [
    " #log transformation\n",
    "test = k_fold_cv_ridge    \n",
    "plt.semilogx(lambdas, error)\n",
    "plt.xlabel(\"Lambda\")\n",
    "plt.ylabel(\"Validation Error\")\n",
    "plt.show()"
   ]
  },
  {
   "cell_type": "code",
   "execution_count": null,
   "metadata": {},
   "outputs": [],
   "source": []
  },
  {
   "cell_type": "markdown",
   "metadata": {},
   "source": [
    "### d)"
   ]
  },
  {
   "cell_type": "markdown",
   "metadata": {},
   "source": [
    "When we ask to plot the errors please use this convenction red = cv, blue = test. You can see in e) how to do it"
   ]
  },
  {
   "cell_type": "code",
   "execution_count": 14,
   "metadata": {},
   "outputs": [],
   "source": [
    "X, Y = get_data_x_cube(300)\n",
    "X_train, Y_train = X[:100], Y[:100]\n",
    "X_test, Y_test = X[101:], Y[101:]"
   ]
  },
  {
   "cell_type": "code",
   "execution_count": 16,
   "metadata": {},
   "outputs": [],
   "source": [
    "# compute cross validation\n",
    "lambdas = [10**(-3), 10**(-2), 10**(-1), 1, 10, 100]\n",
    "val_errors = []\n",
    "for lam in lambdas: \n",
    "    c = Ridge(lam)\n",
    "    errors = k_fold_evaluation_MSE(c, X_train, Y_train)\n",
    "    error = np.divide(np.sum(errors),10)\n",
    "    val_errors.append(error)\n",
    "\n",
    "test_errors = []\n",
    "for lam in lambdas: \n",
    "    c = Ridge(lam)\n",
    "    errors = k_fold_evaluation_MSE(c, X_test, Y_test)\n",
    "    error = np.divide(np.sum(errors),10)\n",
    "    test_errors.append(error)"
   ]
  },
  {
   "cell_type": "code",
   "execution_count": 17,
   "metadata": {},
   "outputs": [
    {
     "data": {
      "text/plain": [
       "[<matplotlib.lines.Line2D at 0x1a1f1a9898>]"
      ]
     },
     "execution_count": 17,
     "metadata": {},
     "output_type": "execute_result"
    },
    {
     "data": {
      "image/png": "[encoded data removed]",
      "text/plain": [
       "<matplotlib.figure.Figure at 0x1a1f359f98>"
      ]
     },
     "metadata": {},
     "output_type": "display_data"
    }
   ],
   "source": [
    "# plot \n",
    "\n",
    "plt.figure()\n",
    "plt.semilogx(lambdas, val_errors, c=\"red\")\n",
    "plt.semilogx(lambdas, test_errors, c=\"blue\")"
   ]
  },
  {
   "cell_type": "markdown",
   "metadata": {},
   "source": [
    "### e)"
   ]
  },
  {
   "cell_type": "code",
   "execution_count": 9,
   "metadata": {
    "collapsed": true
   },
   "outputs": [],
   "source": [
    "X, Y = make_classification(n_samples=2000, n_features=2, n_informative=2, n_redundant=0, n_repeated=0, random_state=420)\n",
    "X_train, Y_train = X[:100], Y[:100]\n",
    "X_test, Y_test = X[101:], Y[101:]"
   ]
  },
  {
   "cell_type": "code",
   "execution_count": 10,
   "metadata": {
    "collapsed": true
   },
   "outputs": [],
   "source": [
    "ks = np.arange(1,11)\n",
    "parameters = {'n_neighbors': ks}\n",
    "clf = GridSearchCV(KNeighborsClassifier(weights=\"uniform\"), parameters)\n",
    "clf.fit(X_train, Y_train)\n",
    "accuracy_cv = clf.cv_results_['mean_train_score']"
   ]
  },
  {
   "cell_type": "code",
   "execution_count": 11,
   "metadata": {
    "collapsed": true
   },
   "outputs": [],
   "source": [
    "accuracy = np.zeros(len(ks))\n",
    "    \n",
    "for i, k in enumerate(ks):\n",
    "        \n",
    "    knn = KNeighborsClassifier(n_neighbors=k, weights=\"uniform\")\n",
    "    knn.fit(X_train, Y_train)\n",
    "    accuracy[i] = knn.score(X_test, Y_test)"
   ]
  },
  {
   "cell_type": "code",
   "execution_count": 12,
   "metadata": {},
   "outputs": [
    {
     "data": {
      "text/plain": [
       "<matplotlib.collections.PathCollection at 0x7f5e38533390>"
      ]
     },
     "execution_count": 12,
     "metadata": {},
     "output_type": "execute_result"
    },
    {
     "data": {
      "image/png": "[encoded data removed]",
      "text/plain": [
       "<matplotlib.figure.Figure at 0x7f5e387a7588>"
      ]
     },
     "metadata": {},
     "output_type": "display_data"
    }
   ],
   "source": [
    "plt.figure()\n",
    "plt.scatter(ks, accuracy_cv, c=\"red\")\n",
    "plt.scatter(ks, accuracy, c=\"blue\")"
   ]
  },
  {
   "cell_type": "code",
   "execution_count": 13,
   "metadata": {},
   "outputs": [
    {
     "data": {
      "text/plain": [
       "(array([1.        , 0.9701426 , 0.96004159, 0.95499109, 0.95513963,\n",
       "        0.95008913, 0.93998812, 0.93493761, 0.93493761, 0.93998812]),\n",
       " array([0.95260664, 0.92101106, 0.95945234, 0.9626119 , 0.94154818,\n",
       "        0.94260137, 0.93575566, 0.93575566, 0.92680358, 0.92785677]))"
      ]
     },
     "execution_count": 13,
     "metadata": {},
     "output_type": "execute_result"
    }
   ],
   "source": [
    "accuracy_cv, accuracy"
   ]
  },
  {
   "cell_type": "markdown",
   "metadata": {},
   "source": [
    "# Exercise 2"
   ]
  },
  {
   "cell_type": "code",
   "execution_count": 52,
   "metadata": {},
   "outputs": [],
   "source": [
    "X, Y = get_data(400)\n",
    "X_train, Y_train = X[:100], Y[:100]\n",
    "X_test, Y_test = X[101:], Y[101:]"
   ]
  },
  {
   "cell_type": "markdown",
   "metadata": {},
   "source": [
    "### a)"
   ]
  },
  {
   "cell_type": "code",
   "execution_count": 53,
   "metadata": {},
   "outputs": [
    {
     "data": {
      "text/plain": [
       "10.647661264883762"
      ]
     },
     "execution_count": 53,
     "metadata": {},
     "output_type": "execute_result"
    }
   ],
   "source": [
    "# linear regression: \n",
    "c = LinearRegression()\n",
    "c.fit(X_train, Y_train)\n",
    "Y_pred = c.predict(X_test)\n",
    "\n",
    "mse_error = MSE(Y_pred, Y_test)\n",
    "mse_error"
   ]
  },
  {
   "cell_type": "markdown",
   "metadata": {},
   "source": [
    "### b)"
   ]
  },
  {
   "cell_type": "code",
   "execution_count": 58,
   "metadata": {},
   "outputs": [
    {
     "data": {
      "text/plain": [
       "Text(0,0.5,'Error')"
      ]
     },
     "execution_count": 58,
     "metadata": {},
     "output_type": "execute_result"
    },
    {
     "data": {
      "image/png": "[encoded data removed]",
      "text/plain": [
       "<matplotlib.figure.Figure at 0x1a1fd0f438>"
      ]
     },
     "metadata": {},
     "output_type": "display_data"
    }
   ],
   "source": [
    "lambdas = [10**-3, 10**-2, 10**-1, 1, 10, 100]\n",
    "cv_errors = k_fold_cv_ridge(X_train, Y_train, lambdas)\n",
    "test_errors = k_fold_cv_ridge(X_test, Y_test, lambdas)\n",
    "plt.figure()\n",
    "plt.semilogx(lambdas, cv_errors, c=\"red\")\n",
    "plt.semilogx(lambdas, test_errors, c=\"blue\")\n",
    "plt.title('Validation Error and Test Error')\n",
    "plt.xlabel('Lambdas')\n",
    "plt.ylabel('Error')"
   ]
  },
  {
   "cell_type": "code",
   "execution_count": 56,
   "metadata": {},
   "outputs": [
    {
     "data": {
      "text/plain": [
       "[10.200619000155124,\n",
       " 10.200607829598102,\n",
       " 10.20049679101882,\n",
       " 10.199452097815069,\n",
       " 10.194677021162352,\n",
       " 10.328143579396166]"
      ]
     },
     "execution_count": 56,
     "metadata": {},
     "output_type": "execute_result"
    }
   ],
   "source": [
    "cv_errors"
   ]
  },
  {
   "cell_type": "code",
   "execution_count": 57,
   "metadata": {},
   "outputs": [
    {
     "data": {
      "text/plain": [
       "[10.200619000155124,\n",
       " 10.200607829598102,\n",
       " 10.20049679101882,\n",
       " 10.199452097815069,\n",
       " 10.194677021162352,\n",
       " 10.328143579396166]"
      ]
     },
     "execution_count": 57,
     "metadata": {},
     "output_type": "execute_result"
    }
   ],
   "source": [
    "test_errors"
   ]
  },
  {
   "cell_type": "markdown",
   "metadata": {},
   "source": [
    "### c)"
   ]
  },
  {
   "cell_type": "code",
   "execution_count": 65,
   "metadata": {},
   "outputs": [],
   "source": [
    "lambdas = [10**(-3), 10**(-2), 10**(-1), 1, 10, 100]\n",
    "val_errors = []\n",
    "for lam in lambdas: \n",
    "    c = Lasso(lam)\n",
    "    errors = k_fold_evaluation_MSE(c, X_train, Y_train, 10)\n",
    "    val_errors.append(errors)\n",
    "\n",
    "test_errors = []\n",
    "for lam in lambdas: \n",
    "    c = Lasso(lam)\n",
    "    errors = k_fold_evaluation_MSE(c, X_test, Y_test, 10)\n",
    "    test_errors.append(errors)"
   ]
  },
  {
   "cell_type": "code",
   "execution_count": 66,
   "metadata": {},
   "outputs": [
    {
     "data": {
      "text/plain": [
       "Text(0,0.5,'Error')"
      ]
     },
     "execution_count": 66,
     "metadata": {},
     "output_type": "execute_result"
    },
    {
     "data": {
      "image/png": "[encoded data removed]",
      "text/plain": [
       "<matplotlib.figure.Figure at 0x1a1f6ed828>"
      ]
     },
     "metadata": {},
     "output_type": "display_data"
    }
   ],
   "source": [
    "plt.figure()\n",
    "plt.semilogx(lambdas, val_errors, c=\"red\")\n",
    "plt.semilogx(lambdas, test_errors, c=\"blue\")\n",
    "plt.title('Validation Error and Test Error')\n",
    "plt.xlabel('Lambdas')\n",
    "plt.ylabel('Error')"
   ]
  },
  {
   "cell_type": "code",
   "execution_count": null,
   "metadata": {},
   "outputs": [],
   "source": []
  }
 ],
 "metadata": {
  "kernelspec": {
   "display_name": "Python 3",
   "language": "python",
   "name": "python3"
  },
  "language_info": {
   "codemirror_mode": {
    "name": "ipython",
    "version": 3
   },
   "file_extension": ".py",
   "mimetype": "text/x-python",
   "name": "python",
   "nbconvert_exporter": "python",
   "pygments_lexer": "ipython3",
   "version": "3.6.4"
  }
 },
 "nbformat": 4,
 "nbformat_minor": 2
}

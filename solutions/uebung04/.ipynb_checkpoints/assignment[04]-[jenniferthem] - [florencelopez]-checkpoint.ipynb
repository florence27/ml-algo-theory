{
 "cells": [
  {
   "cell_type": "markdown",
   "metadata": {},
   "source": [
    "# Assignment 4\n",
    "## Due May 15th"
   ]
  },
  {
   "cell_type": "code",
   "execution_count": 2,
   "metadata": {
    "collapsed": true
   },
   "outputs": [],
   "source": [
    "import warnings\n",
    "warnings.filterwarnings('ignore')"
   ]
  },
  {
   "cell_type": "code",
   "execution_count": 3,
   "metadata": {
    "collapsed": true
   },
   "outputs": [],
   "source": [
    "%matplotlib inline\n",
    "import matplotlib.pyplot as plt\n",
    "import numpy as np\n",
    "import pandas as pd\n",
    "\n",
    "from sklearn.neighbors import KNeighborsClassifier\n",
    "from sklearn.linear_model import Ridge, LinearRegression, Lasso\n",
    "from sklearn.datasets import make_classification\n",
    "from sklearn.model_selection import GridSearchCV\n",
    "\n",
    "np.random.seed(42)"
   ]
  },
  {
   "cell_type": "markdown",
   "metadata": {},
   "source": [
    "Here you would normaly get a \"RuntimeWarning: numpy.dtype size changed, may indicate binary incompatibility\" warning. You do not since we silenced the warning in the first cell. If you are interested read here\n",
    "https://stackoverflow.com/questions/40845304/runtimewarning-numpy-dtype-size-changed-may-indicate-binary-incompatibility"
   ]
  },
  {
   "cell_type": "code",
   "execution_count": 4,
   "metadata": {
    "collapsed": true
   },
   "outputs": [],
   "source": [
    "def get_data_x_cube(n):\n",
    "        \n",
    "    x = np.random.uniform(0, 4, n)\n",
    "    X = np.expand_dims(x, axis=-1)\n",
    "    y = 3*(x-2)**3 + 0.1*np.random.normal(0, 1, n)\n",
    "    Y = np.expand_dims(y, axis=-1)\n",
    "    \n",
    "    return X, Y"
   ]
  },
  {
   "cell_type": "code",
   "execution_count": 5,
   "metadata": {
    "collapsed": true
   },
   "outputs": [],
   "source": [
    "def get_data(n):\n",
    "        \n",
    "    x = np.random.uniform(0, 4, n)\n",
    "    X = np.expand_dims(x, axis=-1)\n",
    "    y = x + np.random.normal(0, 3, n)\n",
    "    Y = np.expand_dims(y, axis=-1)\n",
    "    \n",
    "    return X, Y"
   ]
  },
  {
   "cell_type": "markdown",
   "metadata": {},
   "source": [
    "# Exercise 1\n",
    "\n",
    "### a)"
   ]
  },
  {
   "cell_type": "code",
   "execution_count": 6,
   "metadata": {
    "collapsed": true
   },
   "outputs": [],
   "source": [
    "def MSE(Y_pred, Y):\n",
    "    error = np.mean((Y - Y_pred)**2)\n",
    "    return error"
   ]
  },
  {
   "cell_type": "markdown",
   "metadata": {},
   "source": [
    "### b)"
   ]
  },
  {
   "cell_type": "code",
   "execution_count": 7,
   "metadata": {},
   "outputs": [],
   "source": [
    "def k_fold_evaluation_MSE(classifier, X, Y, K=10):\n",
    "    errors = []\n",
    "    for k in list(range(1, K)): \n",
    "        \n",
    "        index = int(np.ceil(len(X)/K))\n",
    "        split1X, testX, split2X = np.split(X, [(k-1)*index, k*index])\n",
    "        new_trainX = np.concatenate((split1X, split2X))\n",
    "        \n",
    "        split1Y, testY, split2Y = np.split(Y, [(k-1)*index, k*index])\n",
    "        new_trainY = np.concatenate((split1Y, split2Y))\n",
    "        \n",
    "        classifier.fit(new_trainX, new_trainY)\n",
    "        Y_pred = classifier.predict(testX)\n",
    "        val_error = MSE(Y_pred, testY)\n",
    "        errors.append(val_error)\n",
    "    return errors"
   ]
  },
  {
   "cell_type": "code",
   "execution_count": 8,
   "metadata": {},
   "outputs": [
    {
     "data": {
      "text/plain": [
       "[10.482927331507172,\n",
       " 18.451499989324383,\n",
       " 9.87507381252777,\n",
       " 13.46403760547829,\n",
       " 10.265166118242448,\n",
       " 15.299241334506112,\n",
       " 16.13615913121624,\n",
       " 19.66253297617643,\n",
       " 10.598817939235383]"
      ]
     },
     "execution_count": 8,
     "metadata": {},
     "output_type": "execute_result"
    }
   ],
   "source": [
    "X, Y = get_data_x_cube(300)\n",
    "X_train, Y_train = X[:100], Y[:100]\n",
    "X_test, Y_test = X[101:], Y[101:]\n",
    "c = Ridge(0.5)\n",
    "errors = k_fold_evaluation_MSE(c, X_train, Y_train, K=10)\n",
    "errors"
   ]
  },
  {
   "cell_type": "markdown",
   "metadata": {},
   "source": [
    "### c)"
   ]
  },
  {
   "cell_type": "code",
   "execution_count": 9,
   "metadata": {
    "collapsed": true
   },
   "outputs": [],
   "source": [
    "def k_fold_cv_ridge(X, Y, lambdas, K=10):\n",
    "    val_errors = []\n",
    "    for lam in lambdas: \n",
    "        c = Ridge(lam)\n",
    "        errors = k_fold_evaluation_MSE(c, X, Y, K)\n",
    "        error = sum(errors)/K\n",
    "        val_errors.append(error)\n",
    "#    lam = lamdas[np.argmin(val_errors)]\n",
    "    return val_errors "
   ]
  },
  {
   "cell_type": "code",
   "execution_count": 10,
   "metadata": {},
   "outputs": [],
   "source": [
    "X, Y = get_data_x_cube(300)\n",
    "X_train, Y_train = X[:100], Y[:100]\n",
    "X_test, Y_test = X[101:], Y[101:]"
   ]
  },
  {
   "cell_type": "code",
   "execution_count": 11,
   "metadata": {},
   "outputs": [
    {
     "data": {
      "text/plain": [
       "[8.894789300094718,\n",
       " 8.894461373177908,\n",
       " 8.891219407399804,\n",
       " 8.862467156271041,\n",
       " 8.886173956580784,\n",
       " 17.809702459606527]"
      ]
     },
     "execution_count": 11,
     "metadata": {},
     "output_type": "execute_result"
    }
   ],
   "source": [
    "# test the two functions \n",
    "lambdas = [10**(-3), 10**(-2), 10**(-1), 1, 10, 100]\n",
    "val_errors = k_fold_cv_ridge(X_train, Y_train, lambdas, K=10)\n",
    "val_errors"
   ]
  },
  {
   "cell_type": "code",
   "execution_count": 12,
   "metadata": {},
   "outputs": [
    {
     "data": {
      "text/plain": [
       "<matplotlib.text.Text at 0x1175fd8d0>"
      ]
     },
     "execution_count": 12,
     "metadata": {},
     "output_type": "execute_result"
    },
    {
     "data": {
      "image/png": "[encoded data removed]",
      "text/plain": [
       "<matplotlib.figure.Figure at 0x11505fcc0>"
      ]
     },
     "metadata": {},
     "output_type": "display_data"
    }
   ],
   "source": [
    "# plot MSE on log scale \n",
    "plt.figure()\n",
    "plt.semilogx(lambdas, val_errors)\n",
    "plt.xscale('log')\n",
    "plt.xlabel('Lambdas')\n",
    "plt.ylabel('Validation Errors')"
   ]
  },
  {
   "cell_type": "markdown",
   "metadata": {},
   "source": [
    "### d)"
   ]
  },
  {
   "cell_type": "markdown",
   "metadata": {},
   "source": [
    "When we ask to plot the errors please use this convenction red = cv, blue = test. You can see in e) how to do it"
   ]
  },
  {
   "cell_type": "code",
   "execution_count": 17,
   "metadata": {
    "collapsed": true
   },
   "outputs": [],
   "source": [
    "X, Y = get_data_x_cube(300)\n",
    "X_train, Y_train = X[:100], Y[:100]\n",
    "X_test, Y_test = X[101:], Y[101:]"
   ]
  },
  {
   "cell_type": "code",
   "execution_count": 18,
   "metadata": {},
   "outputs": [
    {
     "data": {
      "text/plain": [
       "199"
      ]
     },
     "execution_count": 18,
     "metadata": {},
     "output_type": "execute_result"
    }
   ],
   "source": [
    "X_test.shape[0]"
   ]
  },
  {
   "cell_type": "code",
   "execution_count": 19,
   "metadata": {},
   "outputs": [],
   "source": [
    "# compute cross validation\n",
    "lambdas = [10**(-3), 10**(-2), 10**(-1), 1, 10, 100]\n",
    "val_errors = []\n",
    "for lam in lambdas: \n",
    "    c = Ridge(lam)\n",
    "    errors = k_fold_evaluation_MSE(c, X_train, Y_train, 10)\n",
    "    error = sum(errors)/10\n",
    "    val_errors.append(error)\n",
    "\n",
    "test_errors = []\n",
    "for lam in lambdas: \n",
    "    c = Ridge(lam)\n",
    "    errors = k_fold_evaluation_MSE(c, X_test, Y_test, 10)\n",
    "    error = sum(errors)/10\n",
    "    test_errors.append(error)"
   ]
  },
  {
   "cell_type": "code",
   "execution_count": 20,
   "metadata": {},
   "outputs": [
    {
     "data": {
      "text/plain": [
       "[<matplotlib.lines.Line2D at 0x117e2a208>]"
      ]
     },
     "execution_count": 20,
     "metadata": {},
     "output_type": "execute_result"
    },
    {
     "data": {
      "image/png": "[encoded data removed]",
      "text/plain": [
       "<matplotlib.figure.Figure at 0x117e59a20>"
      ]
     },
     "metadata": {},
     "output_type": "display_data"
    }
   ],
   "source": [
    "# plot \n",
    "\n",
    "plt.figure()\n",
    "plt.semilogx(lambdas, val_errors, c=\"red\")\n",
    "plt.semilogx(lambdas, test_errors, c=\"blue\")"
   ]
  },
  {
   "cell_type": "markdown",
   "metadata": {},
   "source": [
    "### e)"
   ]
  },
  {
   "cell_type": "code",
   "execution_count": 21,
   "metadata": {
    "collapsed": true
   },
   "outputs": [],
   "source": [
    "X, Y = make_classification(n_samples=2000, n_features=2, n_informative=2, n_redundant=0, n_repeated=0, random_state=420)\n",
    "X_train, Y_train = X[:100], Y[:100]\n",
    "X_test, Y_test = X[101:], Y[101:]"
   ]
  },
  {
   "cell_type": "code",
   "execution_count": 22,
   "metadata": {
    "collapsed": true
   },
   "outputs": [],
   "source": [
    "ks = np.arange(1,11)\n",
    "parameters = {'n_neighbors': ks}\n",
    "clf = GridSearchCV(KNeighborsClassifier(weights=\"uniform\"), parameters)\n",
    "clf.fit(X_train, Y_train)\n",
    "accuracy_cv = clf.cv_results_['mean_train_score']"
   ]
  },
  {
   "cell_type": "code",
   "execution_count": 23,
   "metadata": {
    "collapsed": true
   },
   "outputs": [],
   "source": [
    "accuracy = np.zeros(len(ks))\n",
    "    \n",
    "for i, k in enumerate(ks):\n",
    "        \n",
    "    knn = KNeighborsClassifier(n_neighbors=k, weights=\"uniform\")\n",
    "    knn.fit(X_train, Y_train)\n",
    "    accuracy[i] = knn.score(X_test, Y_test)"
   ]
  },
  {
   "cell_type": "code",
   "execution_count": 24,
   "metadata": {},
   "outputs": [
    {
     "data": {
      "text/plain": [
       "<matplotlib.collections.PathCollection at 0x117796518>"
      ]
     },
     "execution_count": 24,
     "metadata": {},
     "output_type": "execute_result"
    },
    {
     "data": {
      "image/png": "[encoded data removed]",
      "text/plain": [
       "<matplotlib.figure.Figure at 0x117a27ba8>"
      ]
     },
     "metadata": {},
     "output_type": "display_data"
    }
   ],
   "source": [
    "plt.figure()\n",
    "plt.scatter(ks, accuracy_cv, c=\"red\")\n",
    "plt.scatter(ks, accuracy, c=\"blue\")"
   ]
  },
  {
   "cell_type": "code",
   "execution_count": 25,
   "metadata": {},
   "outputs": [
    {
     "data": {
      "text/plain": [
       "(array([1.        , 0.9701426 , 0.96004159, 0.95499109, 0.95513963,\n",
       "        0.95008913, 0.93998812, 0.93493761, 0.93493761, 0.93998812]),\n",
       " array([0.95260664, 0.92101106, 0.95945234, 0.9626119 , 0.94154818,\n",
       "        0.94260137, 0.93575566, 0.93575566, 0.92680358, 0.92785677]))"
      ]
     },
     "execution_count": 25,
     "metadata": {},
     "output_type": "execute_result"
    }
   ],
   "source": [
    "accuracy_cv, accuracy"
   ]
  },
  {
   "cell_type": "markdown",
   "metadata": {},
   "source": [
    "# Exercise 2"
   ]
  },
  {
   "cell_type": "code",
   "execution_count": 49,
   "metadata": {
    "collapsed": true
   },
   "outputs": [],
   "source": [
    "X, Y = get_data(400)\n",
    "X_train, Y_train = X[:100], Y[:100]\n",
    "X_test, Y_test = X[101:], Y[101:]"
   ]
  },
  {
   "cell_type": "markdown",
   "metadata": {},
   "source": [
    "### a)"
   ]
  },
  {
   "cell_type": "code",
   "execution_count": 50,
   "metadata": {},
   "outputs": [
    {
     "data": {
      "text/plain": [
       "10.237294080499568"
      ]
     },
     "execution_count": 50,
     "metadata": {},
     "output_type": "execute_result"
    }
   ],
   "source": [
    "# linear regression: \n",
    "c = LinearRegression()\n",
    "c.fit(X_train, Y_train)\n",
    "Y_pred = c.predict(X_test)\n",
    "\n",
    "mse_error = MSE(Y_pred, Y_test)\n",
    "mse_error"
   ]
  },
  {
   "cell_type": "markdown",
   "metadata": {},
   "source": [
    "### b)"
   ]
  },
  {
   "cell_type": "code",
   "execution_count": 51,
   "metadata": {},
   "outputs": [
    {
     "data": {
      "text/plain": [
       "<matplotlib.text.Text at 0x119599940>"
      ]
     },
     "execution_count": 51,
     "metadata": {},
     "output_type": "execute_result"
    },
    {
     "data": {
      "image/png": "[encoded data removed]",
      "text/plain": [
       "<matplotlib.figure.Figure at 0x11927f048>"
      ]
     },
     "metadata": {},
     "output_type": "display_data"
    }
   ],
   "source": [
    "lambdas = [10**(-3), 10**(-2), 10**(-1), 1, 10, 100]\n",
    "cv_errors = k_fold_cv_ridge(X_train, Y_train, lambdas, K=10)\n",
    "test_errors = k_fold_cv_ridge(X_test, Y_test, lambdas, K=10)\n",
    "\n",
    "plt.figure()\n",
    "plt.semilogx(lambdas, cv_errors, c=\"red\")\n",
    "plt.semilogx(lambdas, test_errors, c=\"blue\")\n",
    "plt.title('Validation Error and Test Error')\n",
    "plt.xlabel('Lambdas')\n",
    "plt.ylabel('Error')"
   ]
  },
  {
   "cell_type": "markdown",
   "metadata": {},
   "source": [
    "### c)"
   ]
  },
  {
   "cell_type": "code",
   "execution_count": 47,
   "metadata": {
    "collapsed": true
   },
   "outputs": [],
   "source": [
    "lambdas = [10**(-3), 10**(-2), 10**(-1), 1, 10, 100]\n",
    "val_errors = []\n",
    "for lam in lambdas: \n",
    "    c = Lasso(lam)\n",
    "    errors = k_fold_evaluation_MSE(c, X_train, Y_train, 10)\n",
    "    error = sum(errors)/10\n",
    "    val_errors.append(error)\n",
    "\n",
    "test_errors = []\n",
    "for lam in lambdas: \n",
    "    c = Lasso(lam)\n",
    "    errors = k_fold_evaluation_MSE(c, X_test, Y_test, 10)\n",
    "    error = sum(errors)/10\n",
    "    test_errors.append(error)\n",
    "    \n",
    "    "
   ]
  },
  {
   "cell_type": "code",
   "execution_count": 48,
   "metadata": {},
   "outputs": [
    {
     "data": {
      "text/plain": [
       "<matplotlib.text.Text at 0x1189e3e48>"
      ]
     },
     "execution_count": 48,
     "metadata": {},
     "output_type": "execute_result"
    },
    {
     "data": {
      "image/png": "[encoded data removed]",
      "text/plain": [
       "<matplotlib.figure.Figure at 0x1192f8470>"
      ]
     },
     "metadata": {},
     "output_type": "display_data"
    }
   ],
   "source": [
    "plt.figure()\n",
    "plt.semilogx(lambdas, val_errors, c=\"red\")\n",
    "plt.semilogx(lambdas, test_errors, c=\"blue\")\n",
    "plt.title('Validation Error and Test Error')\n",
    "plt.xlabel('Lambdas')\n",
    "plt.ylabel('Error')"
   ]
  },
  {
   "cell_type": "code",
   "execution_count": null,
   "metadata": {
    "collapsed": true
   },
   "outputs": [],
   "source": []
  }
 ],
 "metadata": {
  "kernelspec": {
   "display_name": "Python 3",
   "language": "python",
   "name": "python3"
  },
  "language_info": {
   "codemirror_mode": {
    "name": "ipython",
    "version": 3
   },
   "file_extension": ".py",
   "mimetype": "text/x-python",
   "name": "python",
   "nbconvert_exporter": "python",
   "pygments_lexer": "ipython3",
   "version": "3.6.4"
  }
 },
 "nbformat": 4,
 "nbformat_minor": 2
}

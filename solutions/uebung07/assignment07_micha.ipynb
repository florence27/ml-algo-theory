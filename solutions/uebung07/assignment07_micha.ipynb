{
 "cells": [
  {
   "cell_type": "markdown",
   "metadata": {},
   "source": [
    "# Assignment 7\n",
    "## Due June 12th\n",
    "### names:"
   ]
  },
  {
   "cell_type": "code",
   "execution_count": 31,
   "metadata": {
    "collapsed": false
   },
   "outputs": [],
   "source": [
    "%matplotlib inline\n",
    "import matplotlib.pyplot as plt\n",
    "import numpy as np\n",
    "from sklearn import svm\n",
    "from sklearn.model_selection import GridSearchCV\n",
    "import matplotlib.pyplot as plt\n",
    "from sklearn.datasets import make_classification\n",
    "from sklearn.model_selection import train_test_split\n",
    "from sklearn.preprocessing import normalize\n",
    "\n",
    "np.random.seed(42)"
   ]
  },
  {
   "cell_type": "markdown",
   "metadata": {},
   "source": [
    "## Exercise 1"
   ]
  },
  {
   "cell_type": "code",
   "execution_count": 5,
   "metadata": {
    "collapsed": false
   },
   "outputs": [],
   "source": [
    "data, labels = make_classification(n_samples=1000, n_features=30, n_informative=15, n_redundant=2, n_repeated=2, n_classes=2, n_clusters_per_class=2, random_state=42, class_sep=0.5)"
   ]
  },
  {
   "cell_type": "markdown",
   "metadata": {},
   "source": [
    "### a)"
   ]
  },
  {
   "cell_type": "code",
   "execution_count": 7,
   "metadata": {
    "collapsed": false
   },
   "outputs": [
    {
     "name": "stdout",
     "output_type": "stream",
     "text": [
      "(670, 30)\n",
      "(330, 30)\n"
     ]
    }
   ],
   "source": [
    "train_data, test_data, train_labels, test_labels = train_test_split(data, labels, test_size=0.33)\n",
    "print(train_data.shape)\n",
    "print(test_data.shape)"
   ]
  },
  {
   "cell_type": "markdown",
   "metadata": {},
   "source": [
    "### b)"
   ]
  },
  {
   "cell_type": "code",
   "execution_count": 11,
   "metadata": {
    "collapsed": false
   },
   "outputs": [
    {
     "data": {
      "text/plain": [
       "{'C': 10, 'gamma': 0.01}"
      ]
     },
     "execution_count": 11,
     "metadata": {},
     "output_type": "execute_result"
    }
   ],
   "source": [
    "parameters = {'C':[0.001, 0.01, 0.1, 1, 10, 100, 1000], \n",
    "              'gamma': [0.001, 0.01, 0.1, 1, 10, 100, 1000, 'auto']}\n",
    "\n",
    "kernel_svm = svm.SVC(kernel=\"rbf\")\n",
    "cv = GridSearchCV(estimator=kernel_svm, param_grid=parameters, cv=10)\n",
    "cv.fit(train_data, train_labels)\n",
    "cv.best_params_"
   ]
  },
  {
   "cell_type": "markdown",
   "metadata": {},
   "source": [
    "### c)"
   ]
  },
  {
   "cell_type": "code",
   "execution_count": 19,
   "metadata": {
    "collapsed": false
   },
   "outputs": [
    {
     "name": "stdout",
     "output_type": "stream",
     "text": [
      "Risk: 0.115152\n",
      "Unbalanced loss: 0.120000\n"
     ]
    }
   ],
   "source": [
    "kernel_svm = svm.SVC(kernel=\"rbf\", C=10, gamma=0.01)\n",
    "kernel_svm.fit(train_data, train_labels)\n",
    "print(\"Risk: %f\"%(1 -kernel_svm.score(test_data, test_labels)))\n",
    "\n",
    "predicted_labels = kernel_svm.predict(test_data)\n",
    "\n",
    "      \n",
    "def unbalanced_loss(true_labels, predicted_labels):\n",
    "    loss = 0\n",
    "    for i in range(len(predicted_labels)):\n",
    "        if predicted_labels[i] == 0 and true_labels[i] == 1:\n",
    "            loss += 0.2\n",
    "        elif ( predicted_labels[i] == 1 and true_labels[i] == 0):\n",
    "            loss += 1.8\n",
    "    return loss/len(true_labels)\n",
    "\n",
    "print(\"Unbalanced risk: %f\" %unbalanced_loss(test_labels, predicted_labels))"
   ]
  },
  {
   "cell_type": "markdown",
   "metadata": {},
   "source": [
    "### d)"
   ]
  },
  {
   "cell_type": "code",
   "execution_count": 24,
   "metadata": {
    "collapsed": false
   },
   "outputs": [
    {
     "data": {
      "text/plain": [
       "<matplotlib.legend.Legend at 0x2124829aef0>"
      ]
     },
     "execution_count": 24,
     "metadata": {},
     "output_type": "execute_result"
    },
    {
     "data": {
      "image/png": "[encoded data removed]",
      "text/plain": [
       "<matplotlib.figure.Figure at 0x21244cc1ac8>"
      ]
     },
     "metadata": {},
     "output_type": "display_data"
    }
   ],
   "source": [
    "Cs = [0.001, 0.01, 0.1, 1, 10, 100, 1000]\n",
    "balanced_losses, unbalanced_losses = [],[]\n",
    "for c in Cs:\n",
    "    ksvc = svm.SVC(kernel = \"rbf\", C=c)\n",
    "    ksvc.fit(train_data, train_labels)\n",
    "    predicted_labels = ksvc.predict(test_data)\n",
    "    balanced_losses.append(1 - ksvc.score(test_data, test_labels))\n",
    "    unbalanced_losses.append(unbalanced_loss(test_labels, predicted_labels))\n",
    "\n",
    "plt.semilogx(Cs, balanced_losses, label=\"balanced\")\n",
    "plt.semilogx(Cs, unbalanced_losses, label=\"unbalanced\")\n",
    "plt.legend()\n",
    "# The best value for C seems to be 1 for both losses, even though there doesn't\n",
    "# seem to be much of a difference for the higher Cs  \n",
    "    "
   ]
  },
  {
   "cell_type": "code",
   "execution_count": 25,
   "metadata": {
    "collapsed": false
   },
   "outputs": [
    {
     "data": {
      "text/plain": [
       "<matplotlib.legend.Legend at 0x212481f20b8>"
      ]
     },
     "execution_count": 25,
     "metadata": {},
     "output_type": "execute_result"
    },
    {
     "data": {
      "image/png": "[encoded data removed]",
      "text/plain": [
       "<matplotlib.figure.Figure at 0x21246df5f28>"
      ]
     },
     "metadata": {},
     "output_type": "display_data"
    }
   ],
   "source": [
    "Cs = [0.001, 0.01, 0.1, 1, 10, 100, 1000]\n",
    "balanced_losses, unbalanced_losses = [],[]\n",
    "for c in Cs:\n",
    "    ksvc = svm.SVC(kernel = \"rbf\", C=c, gamma=0.01)\n",
    "    ksvc.fit(train_data, train_labels)\n",
    "    predicted_labels = ksvc.predict(test_data)\n",
    "    balanced_losses.append(1 - ksvc.score(test_data, test_labels))\n",
    "    unbalanced_losses.append(unbalanced_loss(test_labels, predicted_labels))\n",
    "\n",
    "plt.semilogx(Cs, balanced_losses, label=\"balanced\")\n",
    "plt.semilogx(Cs, unbalanced_losses, label=\"unbalanced\")\n",
    "plt.legend()\n",
    "#The overall result is better and moving quicker towards a lower loss, and C = 10 seems to be slightly better"
   ]
  },
  {
   "cell_type": "markdown",
   "metadata": {},
   "source": [
    "### e)"
   ]
  },
  {
   "cell_type": "code",
   "execution_count": 26,
   "metadata": {
    "collapsed": true
   },
   "outputs": [],
   "source": [
    "X, Y = make_classification(n_samples=200, n_features=2, n_informative=2, n_redundant=0, n_repeated=0, n_classes=2, n_clusters_per_class=2, random_state=42, class_sep=0.75)\n",
    "X_train, Y_train = X[:120], Y[:120]\n",
    "X_test, Y_test = X[120:], Y[120:]"
   ]
  },
  {
   "cell_type": "markdown",
   "metadata": {},
   "source": [
    "### gaussian kernel"
   ]
  },
  {
   "cell_type": "code",
   "execution_count": 34,
   "metadata": {
    "collapsed": false
   },
   "outputs": [
    {
     "data": {
      "text/plain": [
       "{'C': 1, 'gamma': 0.01}"
      ]
     },
     "execution_count": 34,
     "metadata": {},
     "output_type": "execute_result"
    }
   ],
   "source": [
    "parameters = {'C':[0.001, 0.01, 0.1, 1, 10, 100, 1000], \n",
    "              'gamma': [0.001, 0.01, 0.1, 1, 10, 100, 1000, 'auto']}\n",
    "\n",
    "rbf_svm = svm.SVC(kernel=\"rbf\")\n",
    "cv = GridSearchCV(estimator=rbf_svm, param_grid=parameters, cv=10)\n",
    "cv.fit(X_train, Y_train)\n",
    "cv.best_params_"
   ]
  },
  {
   "cell_type": "markdown",
   "metadata": {},
   "source": [
    "### linear kernel"
   ]
  },
  {
   "cell_type": "code",
   "execution_count": 30,
   "metadata": {
    "collapsed": false
   },
   "outputs": [
    {
     "data": {
      "text/plain": [
       "{'C': 0.1, 'gamma': 0.001}"
      ]
     },
     "execution_count": 30,
     "metadata": {},
     "output_type": "execute_result"
    }
   ],
   "source": [
    "parameters = {'C':[0.001, 0.01, 0.1, 1, 10, 100, 1000], \n",
    "              'gamma': [0.001, 0.01, 0.1, 1, 10, 100, 1000, 'auto']}\n",
    "lin_svm = svm.SVC(kernel=\"linear\")\n",
    "cv = GridSearchCV(estimator=lin_svm, param_grid=parameters)\n",
    "cv.fit(X_train, Y_train)\n",
    "cv.best_params_"
   ]
  },
  {
   "cell_type": "markdown",
   "metadata": {},
   "source": [
    "### polynomial order 2"
   ]
  },
  {
   "cell_type": "code",
   "execution_count": 32,
   "metadata": {
    "collapsed": false
   },
   "outputs": [
    {
     "data": {
      "text/plain": [
       "{'C': 0.001, 'gamma': 0.001}"
      ]
     },
     "execution_count": 32,
     "metadata": {},
     "output_type": "execute_result"
    }
   ],
   "source": [
    "# Normalizing the data since the polynomial svc seems to take ages with unnormalized data\n",
    "X_train = normalize(X_train)\n",
    "\n",
    "\n",
    "parameters = {'C':[0.001, 0.01, 0.1, 1, 10, 100, 1000], \n",
    "              'gamma': [0.001, 0.01, 0.1, 1, 10, 100, 1000, 'auto']}\n",
    "poly_2_svm = svm.SVC(kernel=\"poly\", degree=2)\n",
    "cv = GridSearchCV(estimator=poly_2_svm, param_grid=parameters)\n",
    "cv.fit(X_train, Y_train)\n",
    "cv.best_params_"
   ]
  },
  {
   "cell_type": "markdown",
   "metadata": {},
   "source": [
    "### polynomial order 3"
   ]
  },
  {
   "cell_type": "code",
   "execution_count": 35,
   "metadata": {
    "collapsed": false
   },
   "outputs": [
    {
     "data": {
      "text/plain": [
       "{'C': 10, 'gamma': 1000}"
      ]
     },
     "execution_count": 35,
     "metadata": {},
     "output_type": "execute_result"
    }
   ],
   "source": [
    "parameters = {'C':[0.001, 0.01, 0.1, 1, 10, 100, 1000], \n",
    "              'gamma': [0.001, 0.01, 0.1, 1, 10, 100, 1000, 'auto']}\n",
    "poly_3_svm = svm.SVC(kernel=\"poly\", degree=3)\n",
    "cv = GridSearchCV(estimator=poly_3_svm, param_grid=parameters)\n",
    "cv.fit(X_train, Y_train)\n",
    "cv.best_params_"
   ]
  },
  {
   "cell_type": "markdown",
   "metadata": {},
   "source": [
    "### f)"
   ]
  },
  {
   "cell_type": "code",
   "execution_count": 39,
   "metadata": {
    "collapsed": false
   },
   "outputs": [
    {
     "data": {
      "text/plain": [
       "<matplotlib.contour.QuadContourSet at 0x21249c69f98>"
      ]
     },
     "execution_count": 39,
     "metadata": {},
     "output_type": "execute_result"
    },
    {
     "data": {
      "image/png": "[encoded data removed]",
      "text/plain": [
       "<matplotlib.figure.Figure at 0x212481132e8>"
      ]
     },
     "metadata": {},
     "output_type": "display_data"
    }
   ],
   "source": [
    "def make_meshgrid(x, y, h=.02):\n",
    "    \"\"\"Create a mesh of points to plot in\n",
    "\n",
    "    Parameters\n",
    "    ----------\n",
    "    x: data to base x-axis meshgrid on\n",
    "    y: data to base y-axis meshgrid on\n",
    "    h: stepsize for meshgrid, optional\n",
    "\n",
    "    Returns\n",
    "    -------\n",
    "    xx, yy : ndarray\n",
    "    \"\"\"\n",
    "    x_min, x_max = x.min() - 1, x.max() + 1\n",
    "    y_min, y_max = y.min() - 1, y.max() + 1\n",
    "    xx, yy = np.meshgrid(np.arange(x_min, x_max, h),\n",
    "                         np.arange(y_min, y_max, h))\n",
    "    return xx, yy\n",
    "\n",
    "def plot_contours(ax, clf, xx, yy, **params):\n",
    "    \"\"\"Plot the decision boundaries for a classifier.\n",
    "\n",
    "    Parameters\n",
    "    ----------\n",
    "    ax: matplotlib axes object\n",
    "    clf: a classifier\n",
    "    xx: meshgrid ndarray\n",
    "    yy: meshgrid ndarray\n",
    "    params: dictionary of params to pass to contourf, optional\n",
    "    \"\"\"\n",
    "    Z = clf.predict(np.c_[xx.ravel(), yy.ravel()])\n",
    "    Z = Z.reshape(xx.shape)\n",
    "    out = ax.contourf(xx, yy, Z, **params)\n",
    "    return out\n",
    "\n",
    "\n",
    "gaussian_svm = svm.SVC(kernel=\"rbf\", C=10, gamma = 0.01)\n",
    "gaussian_svm.fit(X_train, Y_train)\n",
    "\n",
    "\n",
    "xx,yy = make_meshgrid(X_train[:,0], X_train[:,1])\n",
    "fig = plt.figure(figsize=(10,10))\n",
    "ax1 = fig.add_subplot(221)\n",
    "ax1.set_title(\"rbf kernel\")\n",
    "plot_contours(ax1, gaussian_svm,xx,yy)\n",
    "\n",
    "linear_svm = svm.SVC(kernel=\"linear\", C=0.1, gamma=0.001)\n",
    "linear_svm.fit(X_train, Y_train)\n",
    "\n",
    "xx,yy = make_meshgrid(X_train[:,0], X_train[:,1])\n",
    "ax2 = fig.add_subplot(222)\n",
    "ax2.set_title(\"linear kernel\")\n",
    "plot_contours(ax2, linear_svm,xx,yy)\n",
    "\n",
    "poly_2_svm = svm.SVC(kernel=\"poly\", degree=2, C=0.001, gamma=0.001)\n",
    "poly_2_svm.fit(X_train, Y_train)\n",
    "\n",
    "xx,yy = make_meshgrid(X_train[:,0], X_train[:,1])\n",
    "ax3 = fig.add_subplot(223)\n",
    "ax3.set_title(\"polynomial kernel order 2\")\n",
    "plot_contours(ax3, poly_2_svm,xx,yy)\n",
    "\n",
    "poly_3_svm = svm.SVC(kernel=\"poly\", degree=3, C=10, gamma=1000)\n",
    "poly_3_svm.fit(X_train, Y_train)\n",
    "\n",
    "xx,yy = make_meshgrid(X_train[:,0], X_train[:,1])\n",
    "ax4 = fig.add_subplot(224)\n",
    "ax4.set_title(\"polynomial kernel order 3\")\n",
    "plot_contours(ax4, poly_3_svm,xx,yy)"
   ]
  },
  {
   "cell_type": "code",
   "execution_count": null,
   "metadata": {
    "collapsed": true
   },
   "outputs": [],
   "source": []
  }
 ],
 "metadata": {
  "kernelspec": {
   "display_name": "Python 3",
   "language": "python",
   "name": "python3"
  },
  "language_info": {
   "codemirror_mode": {
    "name": "ipython",
    "version": 3
   },
   "file_extension": ".py",
   "mimetype": "text/x-python",
   "name": "python",
   "nbconvert_exporter": "python",
   "pygments_lexer": "ipython3",
   "version": "3.6.0"
  }
 },
 "nbformat": 4,
 "nbformat_minor": 2
}

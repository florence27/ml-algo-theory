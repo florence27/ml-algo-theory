{
 "cells": [
  {
   "cell_type": "markdown",
   "metadata": {},
   "source": [
    "# Assignment 10\n",
    "## Due July 03th\n",
    "### names: Jennifer Them, Florence Lopez"
   ]
  },
  {
   "cell_type": "code",
   "execution_count": 72,
   "metadata": {
    "collapsed": true
   },
   "outputs": [],
   "source": [
    "%matplotlib notebook\n",
    "import matplotlib.pyplot as plt\n",
    "import numpy as np\n",
    "import pandas as pd\n",
    "from numpy import linalg as LA\n",
    "from sklearn.metrics.pairwise import euclidean_distances\n",
    "from numpy.linalg import inv, eig\n",
    "from random import randint\n",
    "\n",
    "\n",
    "np.random.seed(42)"
   ]
  },
  {
   "cell_type": "code",
   "execution_count": 73,
   "metadata": {
    "collapsed": false
   },
   "outputs": [
    {
     "data": {
      "text/plain": [
       "array([0.01316662, 0.07437076])"
      ]
     },
     "execution_count": 73,
     "metadata": {},
     "output_type": "execute_result"
    }
   ],
   "source": [
    "import scipy.io\n",
    "mat = scipy.io.loadmat('assignment10data.mat')\n",
    "X = mat['X']\n",
    "X.mean(0)"
   ]
  },
  {
   "cell_type": "markdown",
   "metadata": {},
   "source": [
    "## Exercise 1"
   ]
  },
  {
   "cell_type": "markdown",
   "metadata": {},
   "source": [
    "### a)"
   ]
  },
  {
   "cell_type": "code",
   "execution_count": 80,
   "metadata": {
    "collapsed": false
   },
   "outputs": [],
   "source": [
    "def KMeans(X, k):\n",
    "    n = len(X)\n",
    "    random_centers = []\n",
    "    assigned_clusters = np.ones(n)\n",
    "    old_clusters = []\n",
    "    \n",
    "    # chose random centers \n",
    "    for i in range(k):\n",
    "        random_centers.append(X[randint(0, n-1)])\n",
    "    \n",
    "    while not np.array_equal(old_clusters, assigned_clusters):\n",
    "    #for epochs in range(100):\n",
    "    # assign clusters \n",
    "        for j in range(len(X)):\n",
    "            dists = euclidean_distances(random_centers, X[j].reshape(1, -1))\n",
    "            cluster = np.argmin(dists)\n",
    "            assigned_clusters[j] = cluster\n",
    "\n",
    "        old_clusters = assigned_clusters \n",
    "\n",
    "        # compute new cluster centers\n",
    "        for i in range(k):\n",
    "            if np.where(assigned_clusters == i)[0].size != 0: \n",
    "                assigned = X[np.where(assigned_clusters == i)[0]] # points that were assigned to this cluster\n",
    "                random_centers[i] = assigned.mean(0)\n",
    "\n",
    "    return random_centers, assigned_clusters, old_clusters\n",
    "    #return random_centers "
   ]
  },
  {
   "cell_type": "code",
   "execution_count": 81,
   "metadata": {
    "collapsed": false
   },
   "outputs": [
    {
     "data": {
      "text/plain": [
       "array([4., 4., 0., 4., 0., 4., 2., 4., 2., 4., 0., 4., 4., 4., 4., 4., 0.,\n",
       "       4., 4., 4., 4., 4., 4., 4., 4., 4., 4., 4., 4., 4., 4., 4., 0., 4.,\n",
       "       4., 4., 4., 4., 4., 0., 4., 4., 4., 4., 4., 0., 4., 4., 4., 0., 4.,\n",
       "       4., 4., 4., 4., 4., 0., 4., 4., 0., 4., 4., 4., 0., 0., 4., 4., 4.,\n",
       "       4., 4., 4., 4., 4., 4., 2., 4., 4., 4., 4., 0., 4., 4., 4., 4., 4.,\n",
       "       4., 4., 4., 4., 4., 4., 4., 4., 4., 4., 4., 4., 4., 4., 4., 0., 4.,\n",
       "       4., 4., 2., 0., 0., 4., 4., 4., 1., 1., 2., 1., 1., 1., 2., 2., 1.,\n",
       "       1., 1., 1., 1., 2., 1., 2., 2., 1., 2., 2., 1., 1., 2., 2., 2., 2.,\n",
       "       2., 2., 1., 1., 1., 2., 1., 1., 1., 1., 1., 1., 1., 1., 1., 1., 1.,\n",
       "       2., 2., 1., 1., 1., 1., 1., 1., 1., 1., 1., 1., 2., 1., 1., 2., 2.,\n",
       "       1., 1., 1., 1., 1., 1., 1., 1., 1., 2., 2., 2., 2., 2., 2., 2., 2.,\n",
       "       1., 1., 1., 2., 1., 1., 1., 1., 1., 1., 2., 1., 1., 2., 2., 2., 2.,\n",
       "       1., 2., 1., 1., 1., 2., 1., 2., 2., 1., 2., 1., 1., 2., 1., 1., 0.,\n",
       "       3., 2., 1., 1., 1., 1., 1., 2., 1., 3., 1., 2., 0., 3., 0., 1., 1.,\n",
       "       1., 1., 2., 1., 1., 0., 1., 1., 2., 1., 1., 0., 2., 0., 2., 2., 3.,\n",
       "       0., 1., 1., 1., 1., 0., 1., 0., 1., 2., 0., 1., 3., 1., 0., 3., 0.,\n",
       "       0., 1., 0., 0., 3., 0., 0., 1., 3., 0., 3., 0., 0., 0., 2., 0., 0.,\n",
       "       2., 1., 0., 3., 3., 0., 1., 1., 1., 3., 0., 1., 0., 0., 1., 0., 2.,\n",
       "       0., 0., 3., 3., 1., 1., 0., 0., 3., 0., 1., 0., 2., 1., 1., 0., 3.,\n",
       "       1., 0., 3., 1., 1., 3., 0., 3., 1., 2., 3., 2., 1., 3., 1., 3., 1.,\n",
       "       1., 0., 1., 1., 1., 3., 1., 1., 2., 0., 3., 0., 2., 1., 1., 1., 0.,\n",
       "       1., 0., 1., 1., 1., 0., 0., 1., 0., 3., 0., 1., 3., 2., 0., 0., 3.,\n",
       "       1., 3., 0., 0., 1., 0., 1., 3., 0., 3., 1., 1., 1., 2., 1., 1., 1.,\n",
       "       2., 3., 3., 2., 1., 3., 1., 3., 0.])"
      ]
     },
     "execution_count": 81,
     "metadata": {},
     "output_type": "execute_result"
    }
   ],
   "source": [
    "# test KMeans\n",
    "centers, clusters, old = KMeans(X, 5)\n",
    "clusters"
   ]
  },
  {
   "cell_type": "code",
   "execution_count": 82,
   "metadata": {
    "collapsed": false
   },
   "outputs": [
    {
     "data": {
      "text/plain": [
       "array([1, 1, 1, 1, 1, 1, 1, 1, 1, 1, 1, 1, 1, 1, 1, 1, 1, 1, 1, 1, 1, 1,\n",
       "       1, 1, 1, 1, 1, 1, 1, 1, 1, 1, 1, 1, 1, 1, 1, 1, 1, 1, 1, 1, 1, 1,\n",
       "       1, 1, 1, 1, 1, 1, 1, 1, 1, 1, 1, 1, 1, 1, 1, 1, 1, 1, 1, 1, 1, 1,\n",
       "       1, 1, 1, 1, 1, 1, 1, 1, 1, 1, 1, 1, 1, 1, 1, 1, 1, 1, 1, 1, 1, 1,\n",
       "       1, 1, 1, 1, 1, 1, 1, 1, 1, 1, 1, 1, 1, 1, 1, 1, 1, 1, 1, 1, 1, 1,\n",
       "       3, 3, 3, 3, 3, 3, 3, 3, 3, 3, 3, 3, 3, 3, 3, 3, 3, 3, 3, 3, 3, 3,\n",
       "       3, 3, 3, 3, 3, 3, 3, 3, 3, 3, 3, 3, 3, 3, 3, 3, 3, 3, 3, 3, 3, 3,\n",
       "       3, 3, 3, 3, 3, 3, 3, 3, 0, 3, 3, 3, 3, 3, 3, 3, 3, 3, 3, 3, 3, 3,\n",
       "       3, 3, 3, 3, 3, 3, 3, 3, 3, 3, 3, 3, 3, 3, 3, 3, 3, 3, 3, 3, 3, 3,\n",
       "       3, 3, 3, 3, 3, 3, 3, 3, 3, 3, 3, 3, 3, 3, 3, 3, 3, 3, 3, 3, 3, 3,\n",
       "       1, 4, 0, 3, 3, 0, 3, 3, 0, 0, 4, 2, 0, 2, 4, 1, 3, 2, 0, 2, 0, 2,\n",
       "       2, 1, 3, 3, 0, 2, 3, 1, 0, 1, 0, 0, 4, 1, 3, 3, 0, 3, 1, 2, 1, 2,\n",
       "       0, 2, 0, 4, 3, 1, 4, 2, 1, 3, 1, 1, 4, 2, 1, 0, 4, 1, 4, 1, 1, 1,\n",
       "       0, 2, 1, 0, 0, 2, 4, 4, 1, 0, 2, 2, 4, 1, 2, 1, 1, 2, 1, 0, 1, 1,\n",
       "       4, 4, 3, 3, 2, 1, 4, 1, 0, 2, 0, 3, 3, 2, 4, 3, 1, 4, 2, 3, 4, 2,\n",
       "       4, 0, 0, 4, 0, 3, 4, 3, 4, 3, 2, 1, 2, 3, 3, 4, 2, 3, 0, 1, 4, 2,\n",
       "       0, 0, 2, 2, 1, 2, 2, 3, 2, 2, 1, 1, 3, 1, 4, 1, 3, 4, 0, 2, 1, 4,\n",
       "       0, 4, 1, 1, 3, 2, 2, 4, 1, 4, 2, 3, 0, 0, 0, 3, 0, 0, 4, 4, 0, 3,\n",
       "       4, 3, 4, 2], dtype=int32)"
      ]
     },
     "execution_count": 82,
     "metadata": {},
     "output_type": "execute_result"
    }
   ],
   "source": [
    "from sklearn.cluster import KMeans\n",
    "kmeans = KMeans(n_clusters=5)\n",
    "kmeans.fit(X)\n",
    "y_kmeans = kmeans.predict(X)\n",
    "y_kmeans"
   ]
  },
  {
   "cell_type": "markdown",
   "metadata": {},
   "source": [
    "### b)"
   ]
  },
  {
   "cell_type": "markdown",
   "metadata": {},
   "source": [
    "### c)"
   ]
  },
  {
   "cell_type": "code",
   "execution_count": 9,
   "metadata": {
    "collapsed": true
   },
   "outputs": [],
   "source": [
    "def spectralClustering(W, k, normalised):\n",
    "    pass"
   ]
  }
 ],
 "metadata": {
  "kernelspec": {
   "display_name": "Python 3",
   "language": "python",
   "name": "python3"
  },
  "language_info": {
   "codemirror_mode": {
    "name": "ipython",
    "version": 3
   },
   "file_extension": ".py",
   "mimetype": "text/x-python",
   "name": "python",
   "nbconvert_exporter": "python",
   "pygments_lexer": "ipython3",
   "version": "3.6.0"
  }
 },
 "nbformat": 4,
 "nbformat_minor": 2
}
